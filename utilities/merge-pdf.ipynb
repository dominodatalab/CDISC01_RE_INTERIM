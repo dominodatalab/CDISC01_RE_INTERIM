{
 "cells": [
  {
   "cell_type": "code",
   "execution_count": 24,
   "id": "69382633-5004-4b5f-9997-49fde5d75b10",
   "metadata": {
    "tags": []
   },
   "outputs": [
    {
     "name": "stdout",
     "output_type": "stream",
     "text": [
      "Appending /mnt/artifacts/compare.pdf\n",
      "Appending /mnt/artifacts/TFL/t_pop.pdf\n",
      "Appending /mnt/artifacts/TFL/t_vscat.pdf\n",
      "Appending /mnt/artifacts/TFL/t_ae_rel.pdf\n",
      "Error validating /mnt/artifacts/.domino/repo/compare.pdf: EOF marker not found\n",
      "Skipping invalid PDF: /mnt/artifacts/.domino/repo/compare.pdf\n",
      "Error validating /mnt/artifacts/.domino/repo/TFL/t_pop.pdf: EOF marker not found\n",
      "Skipping invalid PDF: /mnt/artifacts/.domino/repo/TFL/t_pop.pdf\n",
      "Error validating /mnt/artifacts/.domino/repo/TFL/t_vscat.pdf: EOF marker not found\n",
      "Skipping invalid PDF: /mnt/artifacts/.domino/repo/TFL/t_vscat.pdf\n",
      "Error validating /mnt/artifacts/.domino/repo/TFL/t_ae_rel.pdf: EOF marker not found\n",
      "Skipping invalid PDF: /mnt/artifacts/.domino/repo/TFL/t_ae_rel.pdf\n",
      "Error validating /mnt/artifacts/.domino/repo/results/qc_t_pop.pdf: EOF marker not found\n",
      "Skipping invalid PDF: /mnt/artifacts/.domino/repo/results/qc_t_pop.pdf\n",
      "Error validating /mnt/artifacts/.domino/repo/results/qc_t_ae_rel.pdf: EOF marker not found\n",
      "Skipping invalid PDF: /mnt/artifacts/.domino/repo/results/qc_t_ae_rel.pdf\n",
      "Error validating /mnt/artifacts/.domino/repo/results/average_age_plot.pdf: EOF marker not found\n",
      "Skipping invalid PDF: /mnt/artifacts/.domino/repo/results/average_age_plot.pdf\n",
      "Error validating /mnt/artifacts/.domino/repo/results/t_ae_rel.pdf: EOF marker not found\n",
      "Skipping invalid PDF: /mnt/artifacts/.domino/repo/results/t_ae_rel.pdf\n",
      "Error validating /mnt/artifacts/.domino/repo/results/qc_t_vscat.pdf: EOF marker not found\n",
      "Skipping invalid PDF: /mnt/artifacts/.domino/repo/results/qc_t_vscat.pdf\n",
      "Appending /mnt/artifacts/results/qc_t_pop.pdf\n",
      "Appending /mnt/artifacts/results/qc_t_ae_rel.pdf\n",
      "Appending /mnt/artifacts/results/average_age_plot.pdf\n",
      "Appending /mnt/artifacts/results/t_ae_rel.pdf\n",
      "Appending /mnt/artifacts/results/qc_t_vscat.pdf\n",
      "Appending /mnt/artifacts/pdfs/combined.pdf\n",
      "Appending /mnt/artifacts/pdfs/.ipynb_checkpoints/combined-checkpoint.pdf\n"
     ]
    }
   ],
   "source": [
    "import os\n",
    "import PyPDF2\n",
    "from PyPDF2 import PdfMerger  \n",
    "\n",
    "# Import PdfReadError from PyPDF2.errors\n",
    "from PyPDF2.errors import PdfReadError\n",
    "\n",
    "merger = PdfMerger()\n",
    "\n",
    "def is_valid(pdf_path):\n",
    "  try:\n",
    "    PyPDF2.PdfReader(pdf_path) \n",
    "    return True\n",
    "\n",
    "  # Catch PdfReadError \n",
    "  except PdfReadError as e:\n",
    "    print(f\"Error validating {pdf_path}: {e}\")\n",
    "    return False\n",
    "\n",
    "for root, dirs, files in os.walk('/mnt/artifacts'):\n",
    "  for file in files:\n",
    "    if file.endswith('.pdf'):\n",
    "      pdf_path = os.path.join(root, file)\n",
    "      \n",
    "      if is_valid(pdf_path):\n",
    "        print(f\"Appending {pdf_path}\") \n",
    "        merger.append(pdf_path)\n",
    "      else:\n",
    "        print(f\"Skipping invalid PDF: {pdf_path}\")\n",
    "        \n",
    "merger.write(\"/mnt/artifacts/pdfs/combined.pdf\")\n",
    "merger.close()"
   ]
  },
  {
   "cell_type": "code",
   "execution_count": null,
   "id": "0a109821-c292-47e9-912d-58056a4a2538",
   "metadata": {},
   "outputs": [],
   "source": []
  }
 ],
 "metadata": {
  "dca-init": "true",
  "kernelspec": {
   "display_name": "Python 3 (ipykernel)",
   "language": "python",
   "name": "python3"
  },
  "language_info": {
   "codemirror_mode": {
    "name": "ipython",
    "version": 3
   },
   "file_extension": ".py",
   "mimetype": "text/x-python",
   "name": "python",
   "nbconvert_exporter": "python",
   "pygments_lexer": "ipython3",
   "version": "3.9.16"
  }
 },
 "nbformat": 4,
 "nbformat_minor": 5
}
